{
 "cells": [
  {
   "cell_type": "markdown",
   "metadata": {},
   "source": [
    "Reference: [NumPy-快速处理数据](http://old.sebug.net/paper/books/scipydoc/numpy_intro.html)  \n",
    "\n",
    "1.标准安装的Python中用列表(list)保存一组值，可以用来当作数组使用，不过由于列表的元素可以是任何对象，因此列表中所保存的是**对象的指针**。这样为了保存一个简单的`[1,2,3]`，需要有3个指针和三个整数对象。对于数值运算来说这种结构显然比较浪费内存和CPU计算时间。  \n",
    " Python还提供了一个array模块，array对象和列表不同，它直接保存数值，和C语言的一维数组比较类似。但是**由于它不支持多维**，也**没有各种运算函数**，因此也不适合做数值运算。  \n",
    "2.Numpy traps and pitfalls:  \n",
    "1).reshape()返回的新数组**与原数组共享数据空间**"
   ]
  },
  {
   "cell_type": "code",
   "execution_count": 13,
   "metadata": {},
   "outputs": [
    {
     "name": "stdout",
     "output_type": "stream",
     "text": [
      "[1 2 3 4]\n",
      "[[1 2]\n",
      " [3 4]]\n"
     ]
    }
   ],
   "source": [
    "import numpy as np\n",
    "\n",
    "a = np.arange(1, 5)\n",
    "print(a)\n",
    "b = a.reshape(2, 2)\n",
    "print(b)"
   ]
  },
  {
   "cell_type": "code",
   "execution_count": 14,
   "metadata": {},
   "outputs": [
    {
     "name": "stdout",
     "output_type": "stream",
     "text": [
      "[ 1 -1  3  4]\n",
      "[[ 1 -1]\n",
      " [ 3  4]]\n"
     ]
    }
   ],
   "source": [
    "a[1] = -1\n",
    "print(a)\n",
    "print(b)"
   ]
  },
  {
   "cell_type": "markdown",
   "metadata": {},
   "source": [
    "**数组a和b其实共享数据存储内存区域，因此修改其中任意一个数组的元素都会同时修改另外一个数组的内容**  \n",
    "2).切片操作返回的新数组**与原数组共享数据空间**"
   ]
  },
  {
   "cell_type": "code",
   "execution_count": 15,
   "metadata": {},
   "outputs": [
    {
     "name": "stdout",
     "output_type": "stream",
     "text": [
      "[0 1 2 3 4 5 6 7 8 9]\n",
      "[3 4 5 6]\n"
     ]
    }
   ],
   "source": [
    "a = np.arange(10)\n",
    "print(a)\n",
    "b = a[3:7]\n",
    "print(b)"
   ]
  },
  {
   "cell_type": "code",
   "execution_count": 16,
   "metadata": {},
   "outputs": [
    {
     "name": "stdout",
     "output_type": "stream",
     "text": [
      "[ 0  1  2  3  4 -1  6  7  8  9]\n",
      "[ 3  4 -1  6]\n"
     ]
    }
   ],
   "source": [
    "a[5] = -1\n",
    "print(a)\n",
    "print(b)"
   ]
  },
  {
   "cell_type": "markdown",
   "metadata": {},
   "source": [
    "和Python的list数据类型不同，在numpy中**通过下标范围(切片)获取的新的数组是原始数组的一个视图，它与原始数组共享同一块数据空间**。"
   ]
  },
  {
   "cell_type": "markdown",
   "metadata": {},
   "source": [
    "3).使用**整数序列**作为下标获得的数组**不和原数组共享数据空间**"
   ]
  },
  {
   "cell_type": "code",
   "execution_count": 18,
   "metadata": {},
   "outputs": [
    {
     "name": "stdout",
     "output_type": "stream",
     "text": [
      "[0 1 2 3 4 5 6 7 8 9]\n",
      "[1 2 1 9]\n",
      "[1 2 1 9]\n",
      "[0 1 2 3 4 5 6 7 8 9]\n",
      "[  1 -10   1   9]\n",
      "[1 2 1 9]\n",
      "[ 0 -1  2 -3  4 -5  6  7  8  9]\n",
      "[  1 -10   1   9]\n",
      "[1 2 1 9]\n"
     ]
    }
   ],
   "source": [
    "arr = np.arange(10)\n",
    "print(arr)\n",
    "# 1. arr1和arr2是两种不同但等价的用法\n",
    "arr1 = arr[[1, 2, 1, -1]]\n",
    "print(arr1)\n",
    "arr2 = arr[np.array([1, 2, 1, -1])]\n",
    "print(arr2)\n",
    "arr1[1] = -10\n",
    "# 2. arr和arr1和arr2不共享数据空间，因此只有arr1中的数据发生了改变\n",
    "print(arr)\n",
    "print(arr1)\n",
    "print(arr2)\n",
    "# 3. 整数序列下标也可以用来修改元素的值\n",
    "arr[[3, 5, 1]] = -3, -5, -1\n",
    "print(arr)\n",
    "print(arr1)\n",
    "print(arr2)"
   ]
  },
  {
   "cell_type": "markdown",
   "metadata": {},
   "source": [
    "4).使用**布尔数组**作为下标获得的数组**不和原数组共享数据空间**，注意这种方式只能使用布尔**数组(numpy.ndarray)**，不能使用布尔**列表(list)**"
   ]
  },
  {
   "cell_type": "code",
   "execution_count": 20,
   "metadata": {},
   "outputs": [
    {
     "name": "stdout",
     "output_type": "stream",
     "text": [
      "[0 1 2 3 4]\n",
      "[0 2]\n",
      "[0 2]\n",
      "[1 0 1 0 0]\n"
     ]
    }
   ],
   "source": [
    "arr = np.arange(5)\n",
    "print(arr)\n",
    "# 1. 只对应于布尔数组(numpy.ndarray)，不能使用布尔列表(list)\n",
    "arr1 = arr[np.array([True, False, True, False, False])]\n",
    "print(arr1)\n",
    "# 2. NOTE： 网址上的说明是：若为布尔列表(list)，则True为1, False为0，按照整数序列获取arr中的元素\n",
    "# 但实际的测试结果是：布尔数组与整数序列的使用方式相同，都是两种（既可以使用list也可以使用ndarray）\n",
    "arr2 = arr[[True, False, True, False, False]]\n",
    "print(arr2)\n",
    "arr3 = arr[[1, 0, 1, 0, 0]]\n",
    "print(arr3)"
   ]
  },
  {
   "cell_type": "markdown",
   "metadata": {},
   "source": [
    "布尔数组一般不是手工产生，而是使用布尔运算的ufunc函数产生"
   ]
  },
  {
   "cell_type": "code",
   "execution_count": 26,
   "metadata": {},
   "outputs": [
    {
     "name": "stdout",
     "output_type": "stream",
     "text": [
      "[ 0.30882553  0.62608515  0.97691458  0.79139355  0.54452488]\n",
      "[False  True  True  True  True]\n",
      "[ 0.62608515  0.97691458  0.79139355  0.54452488]\n"
     ]
    }
   ],
   "source": [
    "# 产生一个长度为5，元素值为0-1的随机数的数组\n",
    "rand_ndarray = np.random.rand(5)\n",
    "print(rand_ndarray)\n",
    "# 数组中的每个元素和0.5进行大小比较，得到一个布尔数组，True表示对应的值大于0.5\n",
    "print(rand_ndarray > 0.5)\n",
    "# 使用rand_ndarray > 0.5返回的布尔数组收集x中的元素，结果:数组中所有大于0.5的元素\n",
    "arr1 = rand_ndarray[rand_ndarray > 0.5]\n",
    "print(arr1)"
   ]
  },
  {
   "cell_type": "code",
   "execution_count": null,
   "metadata": {},
   "outputs": [],
   "source": []
  },
  {
   "cell_type": "code",
   "execution_count": null,
   "metadata": {},
   "outputs": [],
   "source": []
  },
  {
   "cell_type": "code",
   "execution_count": null,
   "metadata": {},
   "outputs": [],
   "source": []
  }
 ],
 "metadata": {
  "kernelspec": {
   "display_name": "Python 3",
   "language": "python",
   "name": "python3"
  },
  "language_info": {
   "codemirror_mode": {
    "name": "ipython",
    "version": 3
   },
   "file_extension": ".py",
   "mimetype": "text/x-python",
   "name": "python",
   "nbconvert_exporter": "python",
   "pygments_lexer": "ipython3",
   "version": "3.6.1"
  }
 },
 "nbformat": 4,
 "nbformat_minor": 2
}
